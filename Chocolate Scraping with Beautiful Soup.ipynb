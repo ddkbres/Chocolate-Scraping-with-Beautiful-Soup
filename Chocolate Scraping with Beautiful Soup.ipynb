{
 "cells": [
  {
   "cell_type": "code",
   "execution_count": 2,
   "id": "a4732795",
   "metadata": {},
   "outputs": [
    {
     "data": {
      "image/png": "[encoded data removed]",
      "text/plain": [
       "<Figure size 432x288 with 1 Axes>"
      ]
     },
     "metadata": {
      "needs_background": "light"
     },
     "output_type": "display_data"
    },
    {
     "name": "stdout",
     "output_type": "stream",
     "text": [
      "       Company  Rating  CocoaPercentage\n",
      "0     A. Morin    3.75             63.0\n",
      "1     A. Morin    2.75             70.0\n",
      "2     A. Morin    3.00             70.0\n",
      "3     A. Morin    3.50             70.0\n",
      "4     A. Morin    3.50             70.0\n",
      "...        ...     ...              ...\n",
      "1790    Zotter    3.75             70.0\n",
      "1791    Zotter    3.00             65.0\n",
      "1792    Zotter    3.50             65.0\n",
      "1793    Zotter    3.25             62.0\n",
      "1794    Zotter    3.00             65.0\n",
      "\n",
      "[1795 rows x 3 columns]\n",
      "                                        Rating  CocoaPercentage\n",
      "Company                                                        \n",
      "Tobago Estate (Pralus)                4.000000        70.000000\n",
      "Heirloom Cacao Preservation (Zokoko)  3.875000        70.000000\n",
      "Ocelot                                3.875000        72.500000\n",
      "Amedei                                3.846154        69.538462\n",
      "Matale                                3.812500        71.000000\n",
      "Patric                                3.791667        69.833333\n",
      "Idilio (Felchlin)                     3.775000        72.000000\n",
      "Acalli                                3.750000        70.000000\n",
      "Chocola'te                            3.750000        69.000000\n",
      "Christopher Morel (Felchlin)          3.750000        68.000000\n"
     ]
    },
    {
     "data": {
      "image/png": "[encoded data removed]",
      "text/plain": [
       "<Figure size 432x288 with 1 Axes>"
      ]
     },
     "metadata": {
      "needs_background": "light"
     },
     "output_type": "display_data"
    }
   ],
   "source": [
    "#import codecademylib3_seaborn\n",
    "from bs4 import BeautifulSoup\n",
    "import requests\n",
    "import pandas as pd\n",
    "import matplotlib.pyplot as plt\n",
    "import numpy as np\n",
    "\n",
    "webpage = requests.get(\"https://s3.amazonaws.com/codecademy-content/courses/beautifulsoup/cacao/index.html\")\n",
    "\n",
    "soup = BeautifulSoup(webpage.content, \"html.parser\")\n",
    "\n",
    "ratings = []\n",
    "\n",
    "chocolate_ratings = soup.find_all(\"td\", {\"class\":\"Rating\"})\n",
    "for rating in chocolate_ratings[1:]:\n",
    "    ratings.append(float(rating.get_text()))\n",
    "\n",
    "plt.hist(ratings)\n",
    "plt.show()\n",
    "\n",
    "company_tags = soup.select(\".Company\")\n",
    "companies_names = []\n",
    "for company in company_tags[1:]:\n",
    "    companies_names.append(company.get_text())\n",
    "\n",
    "cocoa_percents = []\n",
    "cocoa_percent_tags = soup.select(\".CocoaPercent\")\n",
    "for td in cocoa_percent_tags[1:]:\n",
    "    percent = float(td.get_text().strip('%'))\n",
    "    cocoa_percents.append(percent)\n",
    "\n",
    "d = {\"Company\": companies_names, \"Rating\": ratings, \"CocoaPercentage\": cocoa_percents}\n",
    "dataframe = pd.DataFrame.from_dict(d)\n",
    "\n",
    "print(dataframe)\n",
    "\n",
    "mean_vals = dataframe.groupby(\"Company\").mean()\n",
    "\n",
    "ten_best = mean_vals.nlargest(10, \"Rating\")\n",
    "print(ten_best)\n",
    "\n",
    "plt.cla()\n",
    "plt.scatter(dataframe.CocoaPercentage, dataframe.Rating)\n",
    "z = np.polyfit(dataframe.CocoaPercentage, dataframe.Rating, 1)\n",
    "line_function = np.poly1d(z)\n",
    "plt.plot(dataframe.CocoaPercentage, line_function(dataframe.CocoaPercentage), \"r--\")\n",
    "plt.show()\n"
   ]
  },
  {
   "cell_type": "code",
   "execution_count": null,
   "id": "c5b08b6c",
   "metadata": {},
   "outputs": [],
   "source": []
  }
 ],
 "metadata": {
  "kernelspec": {
   "display_name": "Python 3",
   "language": "python",
   "name": "python3"
  },
  "language_info": {
   "codemirror_mode": {
    "name": "ipython",
    "version": 3
   },
   "file_extension": ".py",
   "mimetype": "text/x-python",
   "name": "python",
   "nbconvert_exporter": "python",
   "pygments_lexer": "ipython3",
   "version": "3.8.8"
  }
 },
 "nbformat": 4,
 "nbformat_minor": 5
}
